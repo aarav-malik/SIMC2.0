{
 "cells": [
  {
   "cell_type": "markdown",
   "metadata": {},
   "source": [
    "**1.2 Spreading on complex network (Modelling and Machine Learning)**\n",
    "\n",
    "Jupyter Notebook (.ipynb) Answers to Questions 4a, 4b and 5a\n",
    "\n",
    "Commonwealth Secondary School | Aarav Malik, Michelle Aurelia Yudianto, Pua Hong Wei "
   ]
  },
  {
   "cell_type": "markdown",
   "metadata": {},
   "source": [
    "Importing of modules and reading of _.edgelist_ file:"
   ]
  },
  {
   "cell_type": "code",
   "execution_count": 29,
   "metadata": {},
   "outputs": [],
   "source": [
    "import matplotlib.pyplot as plt\n",
    "import networkx as nx\n",
    "import numpy as np\n",
    "from sklearn.linear_model import LinearRegression\n",
    "from sklearn.metrics import mean_squared_error\n",
    "\n",
    "G = nx.read_edgelist(\"contact.edgelist\")\n",
    "\n",
    "\n",
    "# nx.draw(G, with_labels=True)\n",
    "# plt.show()"
   ]
  },
  {
   "cell_type": "markdown",
   "metadata": {},
   "source": [
    "**4a)**"
   ]
  },
  {
   "cell_type": "markdown",
   "metadata": {},
   "source": [
    "Function to calculate number of infections "
   ]
  },
  {
   "cell_type": "code",
   "execution_count": 30,
   "metadata": {},
   "outputs": [],
   "source": [
    "def infections(third):\n",
    "    if third in G.nodes():\n",
    "        infected = ['8', '9']\n",
    "        infected += [third]\n",
    "        for i in range(36):\n",
    "            for node in G.nodes():\n",
    "                if node not in infected:\n",
    "                    if len(list(set(G.neighbors(node)).intersection(infected))) >= 2:\n",
    "                        infected += [node]\n",
    "\n",
    "        return infected\n",
    "    else:\n",
    "        return 'X'"
   ]
  },
  {
   "cell_type": "markdown",
   "metadata": {},
   "source": [
    "Function to calculate infections post-vaccination"
   ]
  },
  {
   "cell_type": "code",
   "execution_count": 31,
   "metadata": {},
   "outputs": [],
   "source": [
    "def vaccine(target):\n",
    "    if target in G.nodes():\n",
    "        G.remove_node(target)\n",
    "        infected = ['8', '9', '151']\n",
    "        for i in range(36):\n",
    "            for node in G.nodes():\n",
    "                if node not in infected:\n",
    "                    if len(list(set(G.neighbors(node)).intersection(infected))) >= 2:\n",
    "                        infected += [node]\n",
    "        return infected\n",
    "    else:\n",
    "        return 'X'"
   ]
  },
  {
   "cell_type": "markdown",
   "metadata": {},
   "source": [
    "Finding the highest number of infected people possible:"
   ]
  },
  {
   "cell_type": "code",
   "execution_count": 32,
   "metadata": {},
   "outputs": [
    {
     "name": "stdout",
     "output_type": "stream",
     "text": [
      "Highest number of infected people possible:  22\n"
     ]
    }
   ],
   "source": [
    "maxer = []\n",
    "for person in range(152):\n",
    "    maxer += [len(infections(str(person)))]\n",
    "print(\"Highest number of infected people possible: \", max(maxer))  # node 2 and 151"
   ]
  },
  {
   "cell_type": "markdown",
   "metadata": {},
   "source": [
    "**4b)**"
   ]
  },
  {
   "cell_type": "markdown",
   "metadata": {},
   "source": [
    "Finding number of infections after vaccination for each node:"
   ]
  },
  {
   "cell_type": "code",
   "execution_count": 33,
   "metadata": {},
   "outputs": [],
   "source": [
    "miner = []\n",
    "for human in range(152):\n",
    "    G = nx.read_edgelist(\"contact.edgelist\")\n",
    "    if str(human) in G.nodes():\n",
    "        miner += [len(vaccine(str(human)))]\n",
    "    else:\n",
    "        miner += [1]\n",
    "    # nx.draw(G, with_labels=True)\n",
    "    # plt.show()"
   ]
  },
  {
   "cell_type": "markdown",
   "metadata": {},
   "source": [
    "Finding the node which would result in the largest decrease of infections"
   ]
  },
  {
   "cell_type": "code",
   "execution_count": 34,
   "metadata": {},
   "outputs": [
    {
     "name": "stdout",
     "output_type": "stream",
     "text": [
      "Recommended node to be vaccinated:  91\n"
     ]
    }
   ],
   "source": [
    "G = nx.read_edgelist(\"contact.edgelist\")\n",
    "diff = []\n",
    "ndiff = []\n",
    "for num in miner:\n",
    "    if num != 1:\n",
    "        diff += [len(infections('151')) - num]\n",
    "        ndiff += [(len(infections('151')) - num) / 36 * 100]\n",
    "    else:\n",
    "        diff += [1]\n",
    "diff[151], diff[1], diff[8], diff[9] = 0, 0, 0, 0\n",
    "ndiff[-1], ndiff[0], ndiff[3], ndiff[4] = 0, 0, 0, 0\n",
    "print(\"Recommended node to be vaccinated: \", diff.index(max(diff)))"
   ]
  },
  {
   "cell_type": "markdown",
   "metadata": {},
   "source": [
    "**5a)**"
   ]
  },
  {
   "cell_type": "markdown",
   "metadata": {},
   "source": [
    "Data organisation: "
   ]
  },
  {
   "cell_type": "code",
   "execution_count": 35,
   "metadata": {},
   "outputs": [],
   "source": [
    "nd = []\n",
    "for n in G.nodes():\n",
    "    nd += [int(n)]\n",
    "nd = sorted(nd)\n",
    "plens = []\n",
    "\n",
    "for z in range(152):\n",
    "    if str(z) in G.nodes():\n",
    "        plen = nx.shortest_path_length(G, '151', str(z))\n",
    "        plens += [plen]\n",
    "\n",
    "y_train = np.array(plens).reshape(-1, 1)\n",
    "x_train = np.array(ndiff).reshape(-1, 1)"
   ]
  },
  {
   "cell_type": "markdown",
   "metadata": {},
   "source": [
    "Training of linear regression model:"
   ]
  },
  {
   "cell_type": "code",
   "execution_count": 36,
   "metadata": {},
   "outputs": [
    {
     "name": "stdout",
     "output_type": "stream",
     "text": [
      "Model Score:  0.40324554700454207\n",
      "Mean Square error: 0.34764630556448356\n"
     ]
    }
   ],
   "source": [
    "model = LinearRegression()\n",
    "model.fit(x_train, y_train)\n",
    "y = model.predict(x_train)\n",
    "print(\"Model Score: \", model.score(x_train, y_train))\n",
    "print(\"Mean Square error:\", mean_squared_error(y_train, y))\n",
    "# plt.plot(ndiff, plens, '.')\n",
    "# plt.show()"
   ]
  },
  {
   "cell_type": "markdown",
   "metadata": {},
   "source": [
    "Calculating vaccination effectiveness of input node:"
   ]
  },
  {
   "cell_type": "code",
   "execution_count": 37,
   "metadata": {},
   "outputs": [
    {
     "name": "stdout",
     "output_type": "stream",
     "text": [
      "Effectiveness:  40.06688241639699 %\n"
     ]
    }
   ],
   "source": [
    "entity = int(input(\"To be vaccinated: \"))\n",
    "pos = nd.index(entity)\n",
    "contacts = plens[pos]\n",
    "x = (contacts - model.intercept_)/model.coef_\n",
    "print(\"Effectiveness: \", float(x), \"%\")"
   ]
  }
 ],
 "metadata": {
  "kernelspec": {
   "display_name": "Python 3.10.0 64-bit",
   "language": "python",
   "name": "python3"
  },
  "language_info": {
   "codemirror_mode": {
    "name": "ipython",
    "version": 3
   },
   "file_extension": ".py",
   "mimetype": "text/x-python",
   "name": "python",
   "nbconvert_exporter": "python",
   "pygments_lexer": "ipython3",
   "version": "3.10.0"
  },
  "orig_nbformat": 4,
  "vscode": {
   "interpreter": {
    "hash": "949777d72b0d2535278d3dc13498b2535136f6dfe0678499012e853ee9abcab1"
   }
  }
 },
 "nbformat": 4,
 "nbformat_minor": 2
}
